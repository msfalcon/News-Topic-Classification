{
  "nbformat": 4,
  "nbformat_minor": 0,
  "metadata": {
    "colab": {
      "provenance": []
    },
    "kernelspec": {
      "name": "python3",
      "display_name": "Python 3"
    },
    "language_info": {
      "name": "python"
    }
  },
  "cells": [
    {
      "cell_type": "code",
      "execution_count": 29,
      "metadata": {
        "id": "SnL3x14NVRv-"
      },
      "outputs": [],
      "source": [
        "#Importing Librates\n",
        "import numpy as np\n",
        "import pandas as pd\n",
        "from tensorflow.keras import layers,models,optimizers,utils\n",
        "import tensorflow as tf\n",
        "from tensorflow.keras.datasets import reuters\n",
        "import matplotlib.pyplot as plt\n",
        "\n",
        "%matplotlib inline"
      ]
    },
    {
      "cell_type": "code",
      "source": [
        "#Loading the data\n",
        "(train_data,train_labels),(test_data,test_labels)=reuters.load_data(num_words=(10000))\n"
      ],
      "metadata": {
        "id": "kkSuKp1sntt_",
        "colab": {
          "base_uri": "https://localhost:8080/"
        },
        "outputId": "9d1ea835-b443-488a-8b85-8faf4d153a67"
      },
      "execution_count": 2,
      "outputs": [
        {
          "output_type": "stream",
          "name": "stdout",
          "text": [
            "Downloading data from https://storage.googleapis.com/tensorflow/tf-keras-datasets/reuters.npz\n",
            "2110848/2110848 [==============================] - 0s 0us/step\n"
          ]
        }
      ]
    },
    {
      "cell_type": "code",
      "source": [
        "#Printing the length of the dataset\n",
        "print(len(train_data))\n",
        "print(len(test_data))"
      ],
      "metadata": {
        "colab": {
          "base_uri": "https://localhost:8080/"
        },
        "id": "qTam6rjKnuKx",
        "outputId": "d25de439-42c7-41d0-b18d-94b3e24859c4"
      },
      "execution_count": 3,
      "outputs": [
        {
          "output_type": "stream",
          "name": "stdout",
          "text": [
            "8982\n",
            "2246\n"
          ]
        }
      ]
    },
    {
      "cell_type": "code",
      "source": [
        "#Preparing Dataset\n",
        "train_data[0] #every word has some number agaist it"
      ],
      "metadata": {
        "colab": {
          "base_uri": "https://localhost:8080/"
        },
        "id": "siT930hZnukF",
        "outputId": "73089be5-c372-40f5-8c3d-9f32fcf1195c"
      },
      "execution_count": 4,
      "outputs": [
        {
          "output_type": "execute_result",
          "data": {
            "text/plain": [
              "[1,\n",
              " 2,\n",
              " 2,\n",
              " 8,\n",
              " 43,\n",
              " 10,\n",
              " 447,\n",
              " 5,\n",
              " 25,\n",
              " 207,\n",
              " 270,\n",
              " 5,\n",
              " 3095,\n",
              " 111,\n",
              " 16,\n",
              " 369,\n",
              " 186,\n",
              " 90,\n",
              " 67,\n",
              " 7,\n",
              " 89,\n",
              " 5,\n",
              " 19,\n",
              " 102,\n",
              " 6,\n",
              " 19,\n",
              " 124,\n",
              " 15,\n",
              " 90,\n",
              " 67,\n",
              " 84,\n",
              " 22,\n",
              " 482,\n",
              " 26,\n",
              " 7,\n",
              " 48,\n",
              " 4,\n",
              " 49,\n",
              " 8,\n",
              " 864,\n",
              " 39,\n",
              " 209,\n",
              " 154,\n",
              " 6,\n",
              " 151,\n",
              " 6,\n",
              " 83,\n",
              " 11,\n",
              " 15,\n",
              " 22,\n",
              " 155,\n",
              " 11,\n",
              " 15,\n",
              " 7,\n",
              " 48,\n",
              " 9,\n",
              " 4579,\n",
              " 1005,\n",
              " 504,\n",
              " 6,\n",
              " 258,\n",
              " 6,\n",
              " 272,\n",
              " 11,\n",
              " 15,\n",
              " 22,\n",
              " 134,\n",
              " 44,\n",
              " 11,\n",
              " 15,\n",
              " 16,\n",
              " 8,\n",
              " 197,\n",
              " 1245,\n",
              " 90,\n",
              " 67,\n",
              " 52,\n",
              " 29,\n",
              " 209,\n",
              " 30,\n",
              " 32,\n",
              " 132,\n",
              " 6,\n",
              " 109,\n",
              " 15,\n",
              " 17,\n",
              " 12]"
            ]
          },
          "metadata": {},
          "execution_count": 4
        }
      ]
    },
    {
      "cell_type": "code",
      "source": [
        "#Reversing the number and the word\n",
        "get_reuter_items=reuters.get_word_index()\n",
        "\n",
        "reverse_word_index=dict([(value,key) for (key,value) in get_reuter_items.items()])\n",
        "\n",
        "decode_word= \"\".join([reverse_word_index.get((i-3),\"?\") for i in train_data[0]])"
      ],
      "metadata": {
        "colab": {
          "base_uri": "https://localhost:8080/"
        },
        "id": "mwCvpClanu-M",
        "outputId": "bc513a3c-3818-4fa4-f46d-410b02646034"
      },
      "execution_count": 5,
      "outputs": [
        {
          "output_type": "stream",
          "name": "stdout",
          "text": [
            "Downloading data from https://storage.googleapis.com/tensorflow/tf-keras-datasets/reuters_word_index.json\n",
            "550378/550378 [==============================] - 0s 0us/step\n"
          ]
        }
      ]
    },
    {
      "cell_type": "code",
      "source": [
        "#Making matrix of zero and one.\n",
        "def vector_data(sequence,dimension=10000):\n",
        "  result=np.zeros((len(sequence),dimension))\n",
        "  for i,sequence in enumerate(sequence):\n",
        "    result[i,sequence]=1\n",
        "  return result"
      ],
      "metadata": {
        "id": "LJKYr9rQnvb9"
      },
      "execution_count": 6,
      "outputs": []
    },
    {
      "cell_type": "code",
      "source": [
        "#Making a matrix od train and test data\n",
        "\n",
        "x_train=vector_data(train_data)\n",
        "x_test=vector_data(test_data)"
      ],
      "metadata": {
        "id": "6F6_DV-fTQdd"
      },
      "execution_count": 7,
      "outputs": []
    },
    {
      "cell_type": "code",
      "source": [
        "#Making one hot encoding function\n",
        "def to_one_hot(labels,dimension=46):\n",
        "  results=np.zeros((len(labels),dimension))\n",
        "  for i,labels in enumerate(labels):\n",
        "    results[i,labels]=1\n",
        "  return results\n"
      ],
      "metadata": {
        "id": "AV6bfnf-TQqK"
      },
      "execution_count": 8,
      "outputs": []
    },
    {
      "cell_type": "code",
      "source": [
        "#Using onhot encode function to encode the data\n",
        "one_hot_encoded_train=to_one_hot(train_labels)\n",
        "one_hot_encoded_test=to_one_hot(test_labels)"
      ],
      "metadata": {
        "id": "_gUH5Im4gvbD"
      },
      "execution_count": 9,
      "outputs": []
    },
    {
      "cell_type": "markdown",
      "source": [
        "## **Another way using one hot encoding is using the to_categorical() function**"
      ],
      "metadata": {
        "id": "F7bJTKqlhWY9"
      }
    },
    {
      "cell_type": "code",
      "source": [
        "train_label=utils.to_categorical(train_labels)\n",
        "test_label=utils.to_categorical(test_labels)"
      ],
      "metadata": {
        "id": "nRYhpX4CgviY"
      },
      "execution_count": 11,
      "outputs": []
    },
    {
      "cell_type": "code",
      "source": [
        "#Spliting the data into the validation and the traaining part.\n",
        "x_val=x_train[:1000]\n",
        "partial_x_train=x_train[1000:]\n",
        "\n",
        "y_val=one_hot_encoded_train[:1000]\n",
        "partial_y_train=one_hot_encoded_train[1000:]"
      ],
      "metadata": {
        "id": "iK40EPkAgvnF"
      },
      "execution_count": 15,
      "outputs": []
    },
    {
      "cell_type": "markdown",
      "source": [
        "## **BUILDING NEURAL NETWORK**"
      ],
      "metadata": {
        "id": "w94Of-b9vV9Q"
      }
    },
    {
      "cell_type": "code",
      "source": [
        "#Architecturing the model\n",
        "model=models.Sequential()\n",
        "\n",
        "model.add(layers.Dense(64,activation=\"relu\",input_shape=(10000,)))\n",
        "model.add(layers.Dense(64,activation=\"relu\"))\n",
        "model.add(layers.Dense(46,activation=\"softmax\"))"
      ],
      "metadata": {
        "id": "ofgYC9_pgvqK"
      },
      "execution_count": 18,
      "outputs": []
    },
    {
      "cell_type": "code",
      "source": [
        "#Compilation Steps:\n",
        "model.compile(optimizer=\"rmsprop\",loss=\"categorical_crossentropy\",metrics=[\"acc\"])"
      ],
      "metadata": {
        "id": "ri3rfFZngvtO"
      },
      "execution_count": 20,
      "outputs": []
    },
    {
      "cell_type": "code",
      "source": [
        "#Traing the model\n",
        "history=model.fit(partial_x_train,partial_y_train,epochs=20,batch_size=512,validation_data=(x_val,y_val))"
      ],
      "metadata": {
        "id": "BuiE4GOTgvwy",
        "colab": {
          "base_uri": "https://localhost:8080/"
        },
        "outputId": "60b5ed0a-616a-4587-9432-7d5f2c880963"
      },
      "execution_count": 25,
      "outputs": [
        {
          "output_type": "stream",
          "name": "stdout",
          "text": [
            "Epoch 1/20\n",
            "16/16 [==============================] - 2s 70ms/step - loss: 2.7705 - acc: 0.5078 - val_loss: 1.8118 - val_acc: 0.6300\n",
            "Epoch 2/20\n",
            "16/16 [==============================] - 1s 53ms/step - loss: 1.4668 - acc: 0.6991 - val_loss: 1.3148 - val_acc: 0.7130\n",
            "Epoch 3/20\n",
            "16/16 [==============================] - 1s 53ms/step - loss: 1.0627 - acc: 0.7800 - val_loss: 1.1514 - val_acc: 0.7540\n",
            "Epoch 4/20\n",
            "16/16 [==============================] - 1s 51ms/step - loss: 0.8380 - acc: 0.8191 - val_loss: 1.0489 - val_acc: 0.7760\n",
            "Epoch 5/20\n",
            "16/16 [==============================] - 1s 52ms/step - loss: 0.6695 - acc: 0.8561 - val_loss: 1.0228 - val_acc: 0.7740\n",
            "Epoch 6/20\n",
            "16/16 [==============================] - 1s 54ms/step - loss: 0.5335 - acc: 0.8880 - val_loss: 0.9529 - val_acc: 0.8050\n",
            "Epoch 7/20\n",
            "16/16 [==============================] - 1s 51ms/step - loss: 0.4302 - acc: 0.9087 - val_loss: 0.9393 - val_acc: 0.8050\n",
            "Epoch 8/20\n",
            "16/16 [==============================] - 1s 53ms/step - loss: 0.3496 - acc: 0.9277 - val_loss: 0.9199 - val_acc: 0.8100\n",
            "Epoch 9/20\n",
            "16/16 [==============================] - 1s 69ms/step - loss: 0.2926 - acc: 0.9377 - val_loss: 0.9065 - val_acc: 0.8130\n",
            "Epoch 10/20\n",
            "16/16 [==============================] - 1s 93ms/step - loss: 0.2414 - acc: 0.9456 - val_loss: 0.9571 - val_acc: 0.8080\n",
            "Epoch 11/20\n",
            "16/16 [==============================] - 1s 73ms/step - loss: 0.2078 - acc: 0.9494 - val_loss: 0.9489 - val_acc: 0.8150\n",
            "Epoch 12/20\n",
            "16/16 [==============================] - 1s 52ms/step - loss: 0.1872 - acc: 0.9506 - val_loss: 0.9807 - val_acc: 0.8120\n",
            "Epoch 13/20\n",
            "16/16 [==============================] - 1s 51ms/step - loss: 0.1684 - acc: 0.9498 - val_loss: 0.9983 - val_acc: 0.8080\n",
            "Epoch 14/20\n",
            "16/16 [==============================] - 1s 53ms/step - loss: 0.1560 - acc: 0.9526 - val_loss: 0.9683 - val_acc: 0.8080\n",
            "Epoch 15/20\n",
            "16/16 [==============================] - 1s 51ms/step - loss: 0.1379 - acc: 0.9569 - val_loss: 1.0383 - val_acc: 0.8130\n",
            "Epoch 16/20\n",
            "16/16 [==============================] - 1s 51ms/step - loss: 0.1339 - acc: 0.9563 - val_loss: 1.0142 - val_acc: 0.8090\n",
            "Epoch 17/20\n",
            "16/16 [==============================] - 1s 52ms/step - loss: 0.1246 - acc: 0.9579 - val_loss: 1.0788 - val_acc: 0.8000\n",
            "Epoch 18/20\n",
            "16/16 [==============================] - 1s 51ms/step - loss: 0.1196 - acc: 0.9584 - val_loss: 1.1121 - val_acc: 0.8000\n",
            "Epoch 19/20\n",
            "16/16 [==============================] - 1s 50ms/step - loss: 0.1196 - acc: 0.9567 - val_loss: 1.0685 - val_acc: 0.7970\n",
            "Epoch 20/20\n",
            "16/16 [==============================] - 1s 50ms/step - loss: 0.1126 - acc: 0.9578 - val_loss: 1.1192 - val_acc: 0.8000\n"
          ]
        }
      ]
    },
    {
      "cell_type": "code",
      "source": [
        "#Plotting VALIDATION AND TRAINING LOSS\n",
        "history_dict=history.history\n",
        "\n",
        "loss_value=history_dict[\"loss\"]\n",
        "val_loss_value=history_dict[\"val_loss\"]\n",
        "\n",
        "epochs=range(1,len(loss_value)+1)\n",
        "\n",
        "plt.plot(epochs,loss_value,'bo',label=\"Training Loss\")\n",
        "plt.plot(epochs,val_loss_value,'b',label=\"Validation Loss\")\n",
        "\n",
        "plt.title(\"Training And Validation Loss\")\n",
        "\n",
        "plt.xlabel(\"Epochs\")\n",
        "plt.ylabel(\"Loss\")\n",
        "plt.legend()\n",
        "plt.show()\n"
      ],
      "metadata": {
        "id": "gQC7cG5Bgv0t",
        "colab": {
          "base_uri": "https://localhost:8080/",
          "height": 295
        },
        "outputId": "8818c733-c912-409a-91db-dd86282118a5"
      },
      "execution_count": 30,
      "outputs": [
        {
          "output_type": "display_data",
          "data": {
            "text/plain": [
              "<Figure size 432x288 with 1 Axes>"
            ],
            "image/png": "[encoded data removed]"
          },
          "metadata": {
            "needs_background": "light"
          }
        }
      ]
    },
    {
      "cell_type": "code",
      "source": [
        "#Plotting The Accuracy\n",
        "acc_value=history_dict[\"acc\"]\n",
        "val_acc_value=history_dict[\"val_acc\"]\n",
        "\n",
        "epochs=range(1,len(acc_value)+1)\n",
        "\n",
        "plt.plot(epochs,acc_value,'bo',label=\"Training Accuracy\")\n",
        "plt.plot(epochs,val_acc_value,'b',label=\"Validation Accuracy\")\n",
        "\n",
        "plt.title(\"Training and Validation Loss\")\n",
        "plt.xlabel(\"EPOCHS\")\n",
        "plt.ylabel(\"Loss\")\n",
        "\n",
        "plt.legend()\n",
        "plt.show()\n"
      ],
      "metadata": {
        "id": "8Ih8WRaMTQvb",
        "colab": {
          "base_uri": "https://localhost:8080/",
          "height": 295
        },
        "outputId": "2ff73221-2735-4203-c62a-edb3d3f1e3a1"
      },
      "execution_count": 32,
      "outputs": [
        {
          "output_type": "display_data",
          "data": {
            "text/plain": [
              "<Figure size 432x288 with 1 Axes>"
            ],
            "image/png": "[encoded data removed]"
          },
          "metadata": {
            "needs_background": "light"
          }
        }
      ]
    },
    {
      "cell_type": "code",
      "source": [
        "# Making pREDICTION\n",
        "prediction=model.predict(x_test)"
      ],
      "metadata": {
        "colab": {
          "base_uri": "https://localhost:8080/"
        },
        "id": "ofh-rUfUKq9u",
        "outputId": "1967088e-2a20-4d07-dbff-cf2d2042abca"
      },
      "execution_count": 33,
      "outputs": [
        {
          "output_type": "stream",
          "name": "stdout",
          "text": [
            "71/71 [==============================] - 0s 3ms/step\n"
          ]
        }
      ]
    },
    {
      "cell_type": "code",
      "source": [
        "##As it shows the probability when we sum it will show 1\n",
        "\n",
        "prediction[0].sum()"
      ],
      "metadata": {
        "colab": {
          "base_uri": "https://localhost:8080/"
        },
        "id": "9eIv2me3KrD3",
        "outputId": "0a75ace8-159a-4b6b-bcd3-98293c7752d4"
      },
      "execution_count": 34,
      "outputs": [
        {
          "output_type": "execute_result",
          "data": {
            "text/plain": [
              "1.0"
            ]
          },
          "metadata": {},
          "execution_count": 34
        }
      ]
    },
    {
      "cell_type": "code",
      "source": [
        "#Getting the maximum value as the return\n",
        "prediction[1].argmax()"
      ],
      "metadata": {
        "colab": {
          "base_uri": "https://localhost:8080/"
        },
        "id": "Hq0076S4KrJW",
        "outputId": "19b2da42-fba5-48f7-8290-b98f2ea0323a"
      },
      "execution_count": 36,
      "outputs": [
        {
          "output_type": "execute_result",
          "data": {
            "text/plain": [
              "10"
            ]
          },
          "metadata": {},
          "execution_count": 36
        }
      ]
    },
    {
      "cell_type": "code",
      "source": [],
      "metadata": {
        "id": "MftETEnkTQ17"
      },
      "execution_count": null,
      "outputs": []
    }
  ]
}